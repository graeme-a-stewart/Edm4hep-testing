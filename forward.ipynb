{
 "cells": [
  {
   "cell_type": "markdown",
   "metadata": {},
   "source": [
    "### Some \"circular\" tests\n",
    "\n",
    "Imagine we have two structs and they both need to contain each other. Can we do this?\n",
    "\n",
    "Define abstract types first, then use these abstract types in the concrete structs, that allows them to be properly defined. Now I can define a parent, then children and then add the children to the parent without problems."
   ]
  },
  {
   "cell_type": "code",
   "execution_count": 1,
   "metadata": {},
   "outputs": [],
   "source": [
    "abstract type ChildAbstract end\n",
    "abstract type ParentAbstract end"
   ]
  },
  {
   "cell_type": "code",
   "execution_count": 2,
   "metadata": {},
   "outputs": [],
   "source": [
    "struct Child{ParentAbstract} <: ChildAbstract\n",
    "    name::String\n",
    "    age::Int\n",
    "    my_parent::ParentAbstract\n",
    "end\n",
    "\n",
    "struct Parent{ChildAbstract} <: ParentAbstract\n",
    "    name::String\n",
    "    age::Int\n",
    "    my_children::Vector{ChildAbstract}\n",
    "end"
   ]
  },
  {
   "cell_type": "code",
   "execution_count": 3,
   "metadata": {},
   "outputs": [
    {
     "data": {
      "text/plain": [
       "Parent{Child}(\"Graeme\", 55, Child[])"
      ]
     },
     "metadata": {},
     "output_type": "display_data"
    }
   ],
   "source": [
    "graeme = Parent(\"Graeme\", 55, Vector{Child}(undef, 0))"
   ]
  },
  {
   "cell_type": "code",
   "execution_count": 4,
   "metadata": {},
   "outputs": [
    {
     "data": {
      "text/plain": [
       "Child{Parent{Child}}(\"Rose\", 21, Parent{Child}(\"Graeme\", 55, Child[]))"
      ]
     },
     "metadata": {},
     "output_type": "display_data"
    }
   ],
   "source": [
    "eilish = Child(\"Eilish\", 19, graeme)\n",
    "rose = Child(\"Rose\", 21, graeme)"
   ]
  },
  {
   "cell_type": "code",
   "execution_count": 5,
   "metadata": {},
   "outputs": [
    {
     "data": {
      "text/plain": [
       "2-element Vector{Child}:\n",
       " Child{Parent{Child}}(\"Eilish\", 19, Parent{Child}(\"Graeme\", 55, Child[#= circular reference @-3 =#]))\n",
       " Child{Parent{Child}}(\"Rose\", 21, Parent{Child}(\"Graeme\", 55, Child[#= circular reference @-3 =#]))"
      ]
     },
     "metadata": {},
     "output_type": "display_data"
    }
   ],
   "source": [
    "push!(graeme.my_children, eilish, rose)"
   ]
  },
  {
   "cell_type": "code",
   "execution_count": 6,
   "metadata": {},
   "outputs": [
    {
     "data": {
      "text/plain": [
       "Parent{Child}(\"Graeme\", 55, Child[Child{Parent{Child}}(\"Eilish\", 19, Parent{Child}(#= circular reference @-3 =#)), Child{Parent{Child}}(\"Rose\", 21, Parent{Child}(#= circular reference @-3 =#))])"
      ]
     },
     "metadata": {},
     "output_type": "display_data"
    }
   ],
   "source": [
    "graeme"
   ]
  },
  {
   "cell_type": "code",
   "execution_count": 7,
   "metadata": {},
   "outputs": [
    {
     "data": {
      "text/plain": [
       "Child{Parent{Child}}(\"Rose\", 21, Parent{Child}(\"Graeme\", 55, Child[Child{Parent{Child}}(\"Eilish\", 19, Parent{Child}(#= circular reference @-3 =#)), Child{Parent{Child}}(#= circular reference @-3 =#)]))"
      ]
     },
     "metadata": {},
     "output_type": "display_data"
    }
   ],
   "source": [
    "rose"
   ]
  },
  {
   "cell_type": "code",
   "execution_count": 8,
   "metadata": {},
   "outputs": [
    {
     "data": {
      "text/plain": [
       "19"
      ]
     },
     "metadata": {},
     "output_type": "display_data"
    }
   ],
   "source": [
    "eilish.age"
   ]
  },
  {
   "cell_type": "code",
   "execution_count": 9,
   "metadata": {},
   "outputs": [
    {
     "data": {
      "text/plain": [
       "true"
      ]
     },
     "metadata": {},
     "output_type": "display_data"
    }
   ],
   "source": [
    "eilish.my_parent === graeme"
   ]
  },
  {
   "cell_type": "code",
   "execution_count": 10,
   "metadata": {},
   "outputs": [
    {
     "data": {
      "text/plain": [
       "\"Graeme\""
      ]
     },
     "metadata": {},
     "output_type": "display_data"
    }
   ],
   "source": [
    "graeme.name"
   ]
  },
  {
   "cell_type": "code",
   "execution_count": null,
   "metadata": {},
   "outputs": [],
   "source": []
  }
 ],
 "metadata": {
  "kernelspec": {
   "display_name": "Julia 1.9.3",
   "language": "julia",
   "name": "julia-1.9"
  },
  "language_info": {
   "file_extension": ".jl",
   "mimetype": "application/julia",
   "name": "julia",
   "version": "1.9.3"
  },
  "orig_nbformat": 4
 },
 "nbformat": 4,
 "nbformat_minor": 2
}
