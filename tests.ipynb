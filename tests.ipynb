{
 "cells": [
  {
   "cell_type": "markdown",
   "metadata": {},
   "source": [
    "# Testing Edm4hep.jl\n",
    "\n",
    "Use the package in the \"normal\" way, i.e., clone the [Edm4hep.jl](https://github.com/Ananya2003Gupta/Edm4hep.jl).\n",
    "\n",
    "Setup a project to use it with, e.g.,\n",
    "\n",
    "```julia\n",
    "juila> ]\n",
    "\n",
    "(Edm4hep-testing) pkg> add Revise\n",
    "\n",
    "(Edm4hep-testing) pkg> dev ../Edm4hep.jl\n",
    "```"
   ]
  },
  {
   "cell_type": "code",
   "execution_count": 1,
   "metadata": {},
   "outputs": [],
   "source": [
    "using Revise\n",
    "using Edm4hep"
   ]
  },
  {
   "cell_type": "code",
   "execution_count": 5,
   "metadata": {},
   "outputs": [
    {
     "name": "stdout",
     "output_type": "stream",
     "text": [
      "CaloHitContribution\n",
      "CaloHitContributionCollection\n",
      "CalorimeterHit\n",
      "CalorimeterHitCollection\n",
      "Cluster\n",
      "ClusterCollection\n",
      "Edm4hep\n",
      "EventHeader\n",
      "EventHeaderCollection\n",
      "HitLevelData\n",
      "Hypothesis\n",
      "MCParticle\n",
      "MCParticleCollection\n",
      "MCRecoCaloAssociation\n",
      "MCRecoCaloAssociationCollection\n",
      "MCRecoCaloParticleAssociation\n",
      "MCRecoCaloParticleAssociationCollection\n",
      "MCRecoClusterParticleAssociation\n",
      "MCRecoClusterParticleAssociationCollection\n",
      "MCRecoParticleAssociation\n",
      "MCRecoParticleAssociationCollection\n",
      "MCRecoTrackParticleAssociation\n",
      "MCRecoTrackParticleAssociationCollection\n",
      "MCRecoTrackerAssociation\n",
      "MCRecoTrackerAssociationCollection\n",
      "MCRecoTrackerHitPlaneAssociation\n",
      "MCRecoTrackerHitPlaneAssociationCollection\n",
      "ObjectID\n",
      "ParticleID\n",
      "ParticleIDCollection\n",
      "Quantity\n",
      "RawCalorimeterHit\n",
      "RawCalorimeterHitCollection\n",
      "RawTimeSeries\n",
      "RawTimeSeriesCollection\n",
      "RecDqdx\n",
      "RecDqdxCollection\n",
      "RecIonizationCluster\n",
      "RecIonizationClusterCollection\n",
      "RecoParticleVertexAssociation\n",
      "RecoParticleVertexAssociationCollection\n",
      "ReconstructedParticle\n",
      "ReconstructedParticleCollection\n",
      "SimCalorimeterHit\n",
      "SimCalorimeterHitCollection\n",
      "SimPrimaryIonizationCluster\n",
      "SimPrimaryIonizationClusterCollection\n",
      "SimTrackerHit\n",
      "SimTrackerHitCollection\n",
      "TimeSeries\n",
      "TimeSeriesCollection\n",
      "Track\n",
      "TrackCollection\n",
      "TrackState\n",
      "TrackerHit\n",
      "TrackerHitCollection\n",
      "TrackerHitPlane\n",
      "TrackerHitPlaneCollection\n",
      "TrackerPulse\n",
      "TrackerPulseCollection\n",
      "Vector2f\n",
      "Vector2i\n",
      "Vector3d\n",
      "Vector3f\n",
      "Vertex\n",
      "VertexCollection\n"
     ]
    }
   ],
   "source": [
    "for name in names(Edm4hep)\n",
    "    println(name)\n",
    "end"
   ]
  },
  {
   "cell_type": "code",
   "execution_count": 6,
   "metadata": {},
   "outputs": [
    {
     "data": {
      "text/plain": [
       "typeof(MCParticle) (singleton type of function MCParticle, subtype of Function)"
      ]
     },
     "metadata": {},
     "output_type": "display_data"
    }
   ],
   "source": [
    "typeof(MCParticle)"
   ]
  },
  {
   "cell_type": "markdown",
   "metadata": {},
   "source": [
    "## Basic initialisation of types\n",
    "\n",
    "Check that basic types can be initialised..."
   ]
  },
  {
   "cell_type": "code",
   "execution_count": 7,
   "metadata": {},
   "outputs": [
    {
     "data": {
      "text/plain": [
       "Edm4hep.Vector3fStruct(1.0f0, 3.0f0, 6.0f0)"
      ]
     },
     "metadata": {},
     "output_type": "display_data"
    }
   ],
   "source": [
    "vf=Vector3f(1.0,3.0,6.0)"
   ]
  },
  {
   "cell_type": "code",
   "execution_count": 24,
   "metadata": {},
   "outputs": [
    {
     "data": {
      "text/plain": [
       "Edm4hep.Vector3fStruct(3.0f0, 6.0f0, 2.0f0)"
      ]
     },
     "metadata": {},
     "output_type": "display_data"
    }
   ],
   "source": [
    "wf=Vector3f(3, 6, 2)"
   ]
  },
  {
   "cell_type": "code",
   "execution_count": 10,
   "metadata": {},
   "outputs": [
    {
     "data": {
      "text/plain": [
       "1.0f0"
      ]
     },
     "metadata": {},
     "output_type": "display_data"
    }
   ],
   "source": [
    "vf.x"
   ]
  },
  {
   "cell_type": "markdown",
   "metadata": {},
   "source": [
    "## Operations on basic types?\n",
    "\n",
    "No, these are not supported, they have to be defined:"
   ]
  },
  {
   "cell_type": "code",
   "execution_count": 11,
   "metadata": {},
   "outputs": [
    {
     "ename": "UndefVarError",
     "evalue": "UndefVarError: `mag` not defined",
     "output_type": "error",
     "traceback": [
      "UndefVarError: `mag` not defined\n",
      "\n",
      "Stacktrace:\n",
      " [1] top-level scope\n",
      "   @ ~/code/Edm4hep-testing/tests.ipynb:1"
     ]
    }
   ],
   "source": [
    "mag(vf)"
   ]
  },
  {
   "cell_type": "markdown",
   "metadata": {},
   "source": [
    "Define a few expected operations...\n",
    "\n",
    "(Aside - what happens in Edm4hep in Python and C++, are these expected operations there?)"
   ]
  },
  {
   "cell_type": "code",
   "execution_count": 14,
   "metadata": {},
   "outputs": [
    {
     "data": {
      "text/plain": [
       "mag (generic function with 1 method)"
      ]
     },
     "metadata": {},
     "output_type": "display_data"
    }
   ],
   "source": [
    "mag(v::Edm4hep.Vector3fStruct) = sqrt(vf.x^2 + vf.y^2 + vf.z^2)"
   ]
  },
  {
   "cell_type": "code",
   "execution_count": 15,
   "metadata": {},
   "outputs": [
    {
     "data": {
      "text/plain": [
       "6.78233f0"
      ]
     },
     "metadata": {},
     "output_type": "display_data"
    }
   ],
   "source": [
    "mag(vf)"
   ]
  },
  {
   "cell_type": "code",
   "execution_count": 17,
   "metadata": {},
   "outputs": [],
   "source": [
    "import Base.+"
   ]
  },
  {
   "cell_type": "code",
   "execution_count": 18,
   "metadata": {},
   "outputs": [
    {
     "data": {
      "text/plain": [
       "+ (generic function with 214 methods)"
      ]
     },
     "metadata": {},
     "output_type": "display_data"
    }
   ],
   "source": [
    "+(v::Edm4hep.Vector3fStruct, w::Edm4hep.Vector3fStruct) = Vector3f(v.x+w.x, v.y+w.y, v.z+w.z)"
   ]
  },
  {
   "cell_type": "code",
   "execution_count": 25,
   "metadata": {},
   "outputs": [
    {
     "data": {
      "text/plain": [
       "Edm4hep.Vector3fStruct(4.0f0, 9.0f0, 8.0f0)"
      ]
     },
     "metadata": {},
     "output_type": "display_data"
    }
   ],
   "source": [
    "vf+wf"
   ]
  },
  {
   "cell_type": "code",
   "execution_count": 23,
   "metadata": {},
   "outputs": [
    {
     "data": {
      "text/plain": [
       "Edm4hep.Vector3fStruct"
      ]
     },
     "metadata": {},
     "output_type": "display_data"
    }
   ],
   "source": [
    "typeof(w)"
   ]
  },
  {
   "cell_type": "markdown",
   "metadata": {},
   "source": [
    "### Natural constructors?\n",
    "\n",
    "I continue to puzzle over why we wrote constructors with a different underlying datatype...?\n",
    "\n",
    "Normal style constructors do just work!"
   ]
  },
  {
   "cell_type": "code",
   "execution_count": 30,
   "metadata": {},
   "outputs": [],
   "source": [
    "Edm4hep.Vector3fStruct() = Edm4hep.Vector3fStruct(0.0f0, 0.0f0, 0.0f0)"
   ]
  },
  {
   "cell_type": "code",
   "execution_count": 31,
   "metadata": {},
   "outputs": [
    {
     "data": {
      "text/plain": [
       "Edm4hep.Vector3fStruct(0.0f0, 0.0f0, 0.0f0)"
      ]
     },
     "metadata": {},
     "output_type": "display_data"
    }
   ],
   "source": [
    "origin = Edm4hep.Vector3fStruct()"
   ]
  },
  {
   "cell_type": "code",
   "execution_count": 32,
   "metadata": {},
   "outputs": [
    {
     "data": {
      "text/plain": [
       "Edm4hep.Vector3fStruct(3.0f0, 2.0f0, 1.0f0)"
      ]
     },
     "metadata": {},
     "output_type": "display_data"
    }
   ],
   "source": [
    "v3f_fromint = Edm4hep.Vector3fStruct(3,2,1)"
   ]
  },
  {
   "cell_type": "code",
   "execution_count": 33,
   "metadata": {},
   "outputs": [
    {
     "data": {
      "text/plain": [
       "Edm4hep.Vector3fStruct(3.1f0, 2.2f0, 1.3f0)"
      ]
     },
     "metadata": {},
     "output_type": "display_data"
    }
   ],
   "source": [
    "v3f_fromf64 = Edm4hep.Vector3fStruct(3.1,2.2,1.3)"
   ]
  },
  {
   "cell_type": "markdown",
   "metadata": {},
   "source": [
    "## More Sophisticated Datatypes...\n",
    "\n",
    "Ah, it's not very nice that we don't use named parameters here - they are all positional. We should try and fix that...\n",
    "\n",
    "Oh, the method signature is horrible here!"
   ]
  },
  {
   "cell_type": "code",
   "execution_count": 35,
   "metadata": {},
   "outputs": [
    {
     "ename": "MethodError",
     "evalue": "MethodError: no method matching ParticleID(; type::Int64, PDG::Int64)\n\nClosest candidates are:\n  ParticleID() got unsupported keyword arguments \"type\", \"PDG\"\n   @ Edm4hep ~/code/Edm4hep.jl/src/Edm4hep.jl:368\n  ParticleID(!Matched::Signed) got unsupported keyword arguments \"type\", \"PDG\"\n   @ Edm4hep ~/code/Edm4hep.jl/src/Edm4hep.jl:368\n  ParticleID(!Matched::Signed, !Matched::Signed) got unsupported keyword arguments \"type\", \"PDG\"\n   @ Edm4hep ~/code/Edm4hep.jl/src/Edm4hep.jl:368\n  ...\n",
     "output_type": "error",
     "traceback": [
      "MethodError: no method matching ParticleID(; type::Int64, PDG::Int64)\n",
      "\n",
      "Closest candidates are:\n",
      "  ParticleID() got unsupported keyword arguments \"type\", \"PDG\"\n",
      "   @ Edm4hep ~/code/Edm4hep.jl/src/Edm4hep.jl:368\n",
      "  ParticleID(!Matched::Signed) got unsupported keyword arguments \"type\", \"PDG\"\n",
      "   @ Edm4hep ~/code/Edm4hep.jl/src/Edm4hep.jl:368\n",
      "  ParticleID(!Matched::Signed, !Matched::Signed) got unsupported keyword arguments \"type\", \"PDG\"\n",
      "   @ Edm4hep ~/code/Edm4hep.jl/src/Edm4hep.jl:368\n",
      "  ...\n",
      "\n",
      "\n",
      "Stacktrace:\n",
      " [1] top-level scope\n",
      "   @ ~/code/Edm4hep-testing/tests.ipynb:1"
     ]
    }
   ],
   "source": [
    "electron = ParticleID(type=3, PDG=3)"
   ]
  },
  {
   "cell_type": "code",
   "execution_count": 37,
   "metadata": {},
   "outputs": [
    {
     "data": {
      "text/plain": [
       "Edm4hep.ParticleIDStruct(0, 0, 0, 0.0f0, Float32[])"
      ]
     },
     "metadata": {},
     "output_type": "display_data"
    }
   ],
   "source": [
    "electron = ParticleID()"
   ]
  },
  {
   "cell_type": "code",
   "execution_count": 38,
   "metadata": {},
   "outputs": [
    {
     "ename": "MethodError",
     "evalue": "MethodError: no method matching ParticleID(::Int64, ::Int64, ::Int64, ::Float64, ::Vector{Float64})",
     "output_type": "error",
     "traceback": [
      "MethodError: no method matching ParticleID(::Int64, ::Int64, ::Int64, ::Float64, ::Vector{Float64})\n",
      "\n",
      "Stacktrace:\n",
      " [1] top-level scope\n",
      "   @ ~/code/Edm4hep-testing/tests.ipynb:1"
     ]
    }
   ],
   "source": [
    "electron2 = ParticleID(3, 3, 0, 0.2, [1.2, 3.4])"
   ]
  },
  {
   "cell_type": "code",
   "execution_count": 39,
   "metadata": {},
   "outputs": [
    {
     "ename": "MethodError",
     "evalue": "MethodError: no method matching ParticleID(::Int32, ::Int32)",
     "output_type": "error",
     "traceback": [
      "MethodError: no method matching ParticleID(::Int32, ::Int32)\n",
      "\n",
      "Stacktrace:\n",
      " [1] top-level scope\n",
      "   @ ~/code/Edm4hep-testing/tests.ipynb:1"
     ]
    }
   ],
   "source": [
    "electron3 = ParticleID(Int32(3), Int32(3))"
   ]
  },
  {
   "cell_type": "code",
   "execution_count": 46,
   "metadata": {},
   "outputs": [
    {
     "ename": "MethodError",
     "evalue": "MethodError: no method matching ParticleID(::Int32, ::Int32, ::Int32, ::Float32, ::Vector{Float32})",
     "output_type": "error",
     "traceback": [
      "MethodError: no method matching ParticleID(::Int32, ::Int32, ::Int32, ::Float32, ::Vector{Float32})\n",
      "\n",
      "Stacktrace:\n",
      " [1] top-level scope\n",
      "   @ ~/code/Edm4hep-testing/tests.ipynb:1"
     ]
    }
   ],
   "source": [
    "electron2 = ParticleID(Int32(3), Int32(3), Int32(0), 0.2f0, [1.2f0, 3.4f0])"
   ]
  },
  {
   "cell_type": "markdown",
   "metadata": {},
   "source": [
    "Using the Julia constructors works as expected!\n",
    "\n",
    "Including changing to the correct internal datatypes by promotion/demotion"
   ]
  },
  {
   "cell_type": "code",
   "execution_count": 47,
   "metadata": {},
   "outputs": [
    {
     "data": {
      "text/plain": [
       "Edm4hep.ParticleIDStruct(3, 3, 0, 0.2f0, Float32[1.2, 3.4])"
      ]
     },
     "metadata": {},
     "output_type": "display_data"
    }
   ],
   "source": [
    "delectron = Edm4hep.ParticleIDStruct(Int32(3), Int32(3), Int32(0), 0.2f0, [1.2f0, 3.4f0])"
   ]
  },
  {
   "cell_type": "code",
   "execution_count": 48,
   "metadata": {},
   "outputs": [
    {
     "data": {
      "text/plain": [
       "Edm4hep.ParticleIDStruct(3, -3, 12, 0.6f0, Float32[1.67, 3.22])"
      ]
     },
     "metadata": {},
     "output_type": "display_data"
    }
   ],
   "source": [
    "pelectron = Edm4hep.ParticleIDStruct(3, -3, 12, 0.6, [1.67, 3.22])"
   ]
  },
  {
   "cell_type": "code",
   "execution_count": null,
   "metadata": {},
   "outputs": [],
   "source": []
  }
 ],
 "metadata": {
  "kernelspec": {
   "display_name": "Julia 1.9.3",
   "language": "julia",
   "name": "julia-1.9"
  },
  "language_info": {
   "file_extension": ".jl",
   "mimetype": "application/julia",
   "name": "julia",
   "version": "1.9.3"
  },
  "orig_nbformat": 4
 },
 "nbformat": 4,
 "nbformat_minor": 2
}
