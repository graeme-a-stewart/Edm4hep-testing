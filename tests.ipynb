{
 "cells": [
  {
   "cell_type": "markdown",
   "metadata": {},
   "source": [
    "# Testing Edm4hep.jl\n",
    "\n",
    "Use the package in the \"normal\" way, i.e., clone the [Edm4hep.jl](https://github.com/Ananya2003Gupta/Edm4hep.jl).\n",
    "\n",
    "Setup a project to use it with, e.g.,\n",
    "\n",
    "```julia\n",
    "juila> ]\n",
    "\n",
    "(Edm4hep-testing) pkg> add Revise\n",
    "\n",
    "(Edm4hep-testing) pkg> dev ../Edm4hep.jl\n",
    "```"
   ]
  },
  {
   "cell_type": "code",
   "execution_count": 1,
   "metadata": {},
   "outputs": [
    {
     "name": "stderr",
     "output_type": "stream",
     "text": [
      "WARNING: Method definition (::Type{Edm4hep.Vector3fStruct})(Float32, Float32, Float32) in module Edm4hep at /Users/graemes/code/Edm4hep.jl/src/Vector3fStruct.jl:2 overwritten on the same line (check for duplicate calls to `include`).\n",
      "  ** incremental compilation may be fatally broken for this module **\n",
      "\n",
      "WARNING: Method definition (::Type{Edm4hep.Vector3fStruct})(Any, Any, Any) in module Edm4hep at /Users/graemes/code/Edm4hep.jl/src/Vector3fStruct.jl:2 overwritten on the same line (check for duplicate calls to `include`).\n",
      "  ** incremental compilation may be fatally broken for this module **\n",
      "\n"
     ]
    },
    {
     "name": "stderr",
     "output_type": "stream",
     "text": [
      "WARNING: Method definition (::Type{Edm4hep.Vector2iStruct})(Int32, Int32) in module Edm4hep at /Users/graemes/code/Edm4hep.jl/src/Vector2iStruct.jl:2 overwritten on the same line (check for duplicate calls to `include`).\n",
      "  ** incremental compilation may be fatally broken for this module **\n",
      "\n",
      "WARNING: Method definition (::Type{Edm4hep.Vector2iStruct})(Any, Any) in module Edm4hep at /Users/graemes/code/Edm4hep.jl/src/Vector2iStruct.jl:2 overwritten on the same line (check for duplicate calls to `include`).\n",
      "  ** incremental compilation may be fatally broken for this module **\n",
      "\n",
      "WARNING: Method definition (::Type{Edm4hep.Vector3dStruct})(Float64, Float64, Float64) in module Edm4hep at /Users/graemes/code/Edm4hep.jl/src/Vector3dStruct.jl:2 overwritten on the same line (check for duplicate calls to `include`).\n",
      "  ** incremental compilation may be fatally broken for this module **\n",
      "\n",
      "WARNING: Method definition (::Type{Edm4hep.Vector3dStruct})(Any, Any, Any) in module Edm4hep at /Users/graemes/code/Edm4hep.jl/src/Vector3dStruct.jl:2 overwritten on the same line (check for duplicate calls to `include`).\n",
      "  ** incremental compilation may be fatally broken for this module **\n",
      "\n",
      "WARNING: Method definition (::Type{Edm4hep.Vector3fStruct})(Float32, Float32, Float32) in module Edm4hep at /Users/graemes/code/Edm4hep.jl/src/Vector3fStruct.jl:2 overwritten on the same line (check for duplicate calls to `include`).\n",
      "  ** incremental compilation may be fatally broken for this module **\n",
      "\n",
      "WARNING: Method definition (::Type{Edm4hep.Vector3fStruct})(Any, Any, Any) in module Edm4hep at /Users/graemes/code/Edm4hep.jl/src/Vector3fStruct.jl:2 overwritten on the same line (check for duplicate calls to `include`).\n",
      "  ** incremental compilation may be fatally broken for this module **\n",
      "\n",
      "WARNING: Method definition (::Type{Edm4hep.Vector3dStruct})(Float64, Float64, Float64) in module Edm4hep at /Users/graemes/code/Edm4hep.jl/src/Vector3dStruct.jl:2 overwritten on the same line (check for duplicate calls to `include`).\n",
      "  ** incremental compilation may be fatally broken for this module **\n",
      "\n",
      "WARNING: Method definition (::Type{Edm4hep.Vector3dStruct})(Any, Any, Any) in module Edm4hep at /Users/graemes/code/Edm4hep.jl/src/Vector3dStruct.jl:2 overwritten on the same line (check for duplicate calls to `include`).\n",
      "  ** incremental compilation may be fatally broken for this module **\n",
      "\n",
      "WARNING: Method definition (::Type{Edm4hep.Vector3fStruct})(Float32, Float32, Float32) in module Edm4hep at /Users/graemes/code/Edm4hep.jl/src/Vector3fStruct.jl:2 overwritten on the same line (check for duplicate calls to `include`).\n",
      "  ** incremental compilation may be fatally broken for this module **\n",
      "\n",
      "WARNING: Method definition (::Type{Edm4hep.Vector3fStruct})(Any, Any, Any) in module Edm4hep at /Users/graemes/code/Edm4hep.jl/src/Vector3fStruct.jl:2 overwritten on the same line (check for duplicate calls to `include`).\n",
      "  ** incremental compilation may be fatally broken for this module **\n",
      "\n",
      "WARNING: Method definition (::Type{Edm4hep.Vector3fStruct})(Float32, Float32, Float32) in module Edm4hep at /Users/graemes/code/Edm4hep.jl/src/Vector3fStruct.jl:2 overwritten on the same line (check for duplicate calls to `include`).\n",
      "  ** incremental compilation may be fatally broken for this module **\n",
      "\n",
      "WARNING: Method definition (::Type{Edm4hep.Vector3fStruct})(Any, Any, Any) in module Edm4hep at /Users/graemes/code/Edm4hep.jl/src/Vector3fStruct.jl:2 overwritten on the same line (check for duplicate calls to `include`).\n",
      "  ** incremental compilation may be fatally broken for this module **\n",
      "\n",
      "WARNING: Method definition (::Type{Edm4hep.Vector3fStruct})(Float32, Float32, Float32) in module Edm4hep at /Users/graemes/code/Edm4hep.jl/src/Vector3fStruct.jl:2 overwritten on the same line (check for duplicate calls to `include`).\n",
      "  ** incremental compilation may be fatally broken for this module **\n",
      "\n",
      "WARNING: Method definition (::Type{Edm4hep.Vector3fStruct})(Any, Any, Any) in module Edm4hep at /Users/graemes/code/Edm4hep.jl/src/Vector3fStruct.jl:2 overwritten on the same line (check for duplicate calls to `include`).\n",
      "  ** incremental compilation may be fatally broken for this module **\n",
      "\n",
      "WARNING: Method definition (::Type{Edm4hep.Vector3fStruct})(Float32, Float32, Float32) in module Edm4hep at /Users/graemes/code/Edm4hep.jl/src/Vector3fStruct.jl:2 overwritten on the same line (check for duplicate calls to `include`).\n",
      "  ** incremental compilation may be fatally broken for this module **\n",
      "\n",
      "WARNING: Method definition (::Type{Edm4hep.Vector3fStruct})(Any, Any, Any) in module Edm4hep at /Users/graemes/code/Edm4hep.jl/src/Vector3fStruct.jl:2 overwritten on the same line (check for duplicate calls to `include`).\n",
      "  ** incremental compilation may be fatally broken for this module **\n",
      "\n",
      "WARNING: Method definition (::Type{Edm4hep.Vector3fStruct})(Float32, Float32, Float32) in module Edm4hep at /Users/graemes/code/Edm4hep.jl/src/Vector3fStruct.jl:2 overwritten on the same line (check for duplicate calls to `include`).\n",
      "  ** incremental compilation may be fatally broken for this module **\n",
      "\n",
      "WARNING: Method definition (::Type{Edm4hep.Vector3fStruct})(Any, Any, Any) in module Edm4hep at /Users/graemes/code/Edm4hep.jl/src/Vector3fStruct.jl:2 overwritten on the same line (check for duplicate calls to `include`).\n",
      "  ** incremental compilation may be fatally broken for this module **\n",
      "\n",
      "WARNING: Method definition (::Type{Edm4hep.ObjectIDStruct})(Int32, Int32) in module Edm4hep at /Users/graemes/code/Edm4hep.jl/src/ObjectIDStruct.jl:2 overwritten on the same line (check for duplicate calls to `include`).\n",
      "  ** incremental compilation may be fatally broken for this module **\n",
      "\n",
      "WARNING: Method definition (::Type{Edm4hep.ObjectIDStruct})(Any, Any) in module Edm4hep at /Users/graemes/code/Edm4hep.jl/src/ObjectIDStruct.jl:2 overwritten on the same line (check for duplicate calls to `include`).\n",
      "  ** incremental compilation may be fatally broken for this module **\n",
      "\n",
      "WARNING: Method definition (::Type{Edm4hep.Vector3dStruct})(Float64, Float64, Float64) in module Edm4hep at /Users/graemes/code/Edm4hep.jl/src/Vector3dStruct.jl:2 overwritten on the same line (check for duplicate calls to `include`).\n",
      "  ** incremental compilation may be fatally broken for this module **\n",
      "\n",
      "WARNING: Method definition (::Type{Edm4hep.Vector3dStruct})(Any, Any, Any) in module Edm4hep at /Users/graemes/code/Edm4hep.jl/src/Vector3dStruct.jl:2 overwritten on the same line (check for duplicate calls to `include`).\n",
      "  ** incremental compilation may be fatally broken for this module **\n",
      "\n",
      "WARNING: Method definition (::Type{Edm4hep.ObjectIDStruct})(Int32, Int32) in module Edm4hep at /Users/graemes/code/Edm4hep.jl/src/ObjectIDStruct.jl:2 overwritten on the same line (check for duplicate calls to `include`).\n",
      "  ** incremental compilation may be fatally broken for this module **\n",
      "\n",
      "WARNING: Method definition (::Type{Edm4hep.ObjectIDStruct})(Any, Any) in module Edm4hep at /Users/graemes/code/Edm4hep.jl/src/ObjectIDStruct.jl:2 overwritten on the same line (check for duplicate calls to `include`).\n",
      "  ** incremental compilation may be fatally broken for this module **\n",
      "\n",
      "WARNING: Method definition (::Type{Edm4hep.Vector2fStruct})(Float32, Float32) in module Edm4hep at /Users/graemes/code/Edm4hep.jl/src/Vector2fStruct.jl:2 overwritten on the same line (check for duplicate calls to `include`).\n",
      "  ** incremental compilation may be fatally broken for this module **\n",
      "\n",
      "WARNING: Method definition (::Type{Edm4hep.Vector2fStruct})(Any, Any) in module Edm4hep at /Users/graemes/code/Edm4hep.jl/src/Vector2fStruct.jl:2 overwritten on the same line (check for duplicate calls to `include`).\n",
      "  ** incremental compilation may be fatally broken for this module **\n",
      "\n",
      "WARNING: Method definition (::Type{Edm4hep.Vector3dStruct})(Float64, Float64, Float64) in module Edm4hep at /Users/graemes/code/Edm4hep.jl/src/Vector3dStruct.jl:2 overwritten on the same line (check for duplicate calls to `include`).\n",
      "  ** incremental compilation may be fatally broken for this module **\n",
      "\n",
      "WARNING: Method definition (::Type{Edm4hep.Vector3dStruct})(Any, Any, Any) in module Edm4hep at /Users/graemes/code/Edm4hep.jl/src/Vector3dStruct.jl:2 overwritten on the same line (check for duplicate calls to `include`).\n",
      "  ** incremental compilation may be fatally broken for this module **\n",
      "\n",
      "WARNING: Method definition (::Type{Edm4hep.QuantityStruct})(Int16, Float32, Float32) in module Edm4hep at /Users/graemes/code/Edm4hep.jl/src/QuantityStruct.jl:2 overwritten on the same line (check for duplicate calls to `include`).\n",
      "  ** incremental compilation may be fatally broken for this module **\n",
      "\n",
      "WARNING: Method definition (::Type{Edm4hep.QuantityStruct})(Any, Any, Any) in module Edm4hep at /Users/graemes/code/Edm4hep.jl/src/QuantityStruct.jl:2 overwritten on the same line (check for duplicate calls to `include`).\n",
      "  ** incremental compilation may be fatally broken for this module **\n",
      "\n",
      "WARNING: Method definition (::Type{Edm4hep.Vector3fStruct})(Float32, Float32, Float32) in module Edm4hep at /Users/graemes/code/Edm4hep.jl/src/Vector3fStruct.jl:2 overwritten on the same line (check for duplicate calls to `include`).\n",
      "  ** incremental compilation may be fatally broken for this module **\n",
      "\n",
      "WARNING: Method definition (::Type{Edm4hep.Vector3fStruct})(Any, Any, Any) in module Edm4hep at /Users/graemes/code/Edm4hep.jl/src/Vector3fStruct.jl:2 overwritten on the same line (check for duplicate calls to `include`).\n",
      "  ** incremental compilation may be fatally broken for this module **\n",
      "\n",
      "WARNING: Method definition (::Type{Edm4hep.TrackStateStruct})(Int32, Float32, Float32, Float32, Float32, Float32, Float32, Edm4hep.Vector3fStruct, StaticArraysCore.MArray{Tuple{21}, Float32, 1, 21}) in module Edm4hep at /Users/graemes/code/Edm4hep.jl/src/TrackStateStruct.jl:4 overwritten on the same line (check for duplicate calls to `include`).\n",
      "  ** incremental compilation may be fatally broken for this module **\n",
      "\n",
      "WARNING: Method definition (::Type{Edm4hep.TrackStateStruct})(Any, Any, Any, Any, Any, Any, Any, Any, Any) in module Edm4hep at /Users/graemes/code/Edm4hep.jl/src/TrackStateStruct.jl:4 overwritten on the same line (check for duplicate calls to `include`).\n",
      "  ** incremental compilation may be fatally broken for this module **\n",
      "\n"
     ]
    },
    {
     "name": "stderr",
     "output_type": "stream",
     "text": [
      "WARNING: Method definition (::Type{Edm4hep.Vector3fStruct})(Float32, Float32, Float32) in module Edm4hep at /Users/graemes/code/Edm4hep.jl/src/Vector3fStruct.jl:2 overwritten on the same line (check for duplicate calls to `include`).\n",
      "  ** incremental compilation may be fatally broken for this module **\n",
      "\n",
      "WARNING: Method definition (::Type{Edm4hep.Vector3fStruct})(Any, Any, Any) in module Edm4hep at /Users/graemes/code/Edm4hep.jl/src/Vector3fStruct.jl:2 overwritten on the same line (check for duplicate calls to `include`).\n",
      "  ** incremental compilation may be fatally broken for this module **\n",
      "\n",
      "WARNING: Method definition (::Type{Edm4hep.Vector3fStruct})(Float32, Float32, Float32) in module Edm4hep at /Users/graemes/code/Edm4hep.jl/src/Vector3fStruct.jl:2 overwritten on the same line (check for duplicate calls to `include`).\n",
      "  ** incremental compilation may be fatally broken for this module **\n",
      "\n",
      "WARNING: Method definition (::Type{Edm4hep.Vector3fStruct})(Any, Any, Any) in module Edm4hep at /Users/graemes/code/Edm4hep.jl/src/Vector3fStruct.jl:2 overwritten on the same line (check for duplicate calls to `include`).\n",
      "  ** incremental compilation may be fatally broken for this module **\n",
      "\n",
      "WARNING: Method definition (::Type{Edm4hep.Vector3dStruct})(Float64, Float64, Float64) in module Edm4hep at /Users/graemes/code/Edm4hep.jl/src/Vector3dStruct.jl:2 overwritten on the same line (check for duplicate calls to `include`).\n",
      "  ** incremental compilation may be fatally broken for this module **\n",
      "\n",
      "WARNING: Method definition (::Type{Edm4hep.Vector3dStruct})(Any, Any, Any) in module Edm4hep at /Users/graemes/code/Edm4hep.jl/src/Vector3dStruct.jl:2 overwritten on the same line (check for duplicate calls to `include`).\n",
      "  ** incremental compilation may be fatally broken for this module **\n",
      "\n",
      "WARNING: Method definition (::Type{Edm4hep.HitLevelDataStruct})(UInt64, UInt32, Float32, Float32) in module Edm4hep at /Users/graemes/code/Edm4hep.jl/src/HitLevelDataStruct.jl:2 overwritten on the same line (check for duplicate calls to `include`).\n",
      "  ** incremental compilation may be fatally broken for this module **\n",
      "\n",
      "WARNING: Method definition (::Type{Edm4hep.HitLevelDataStruct})(Any, Any, Any, Any) in module Edm4hep at /Users/graemes/code/Edm4hep.jl/src/HitLevelDataStruct.jl:2 overwritten on the same line (check for duplicate calls to `include`).\n",
      "  ** incremental compilation may be fatally broken for this module **\n",
      "\n",
      "WARNING: Method definition (::Type{Edm4hep.HypothesisStruct})(Float32, Float32, Float32) in module Edm4hep at /Users/graemes/code/Edm4hep.jl/src/HypothesisStruct.jl:2 overwritten on the same line (check for duplicate calls to `include`).\n",
      "  ** incremental compilation may be fatally broken for this module **\n",
      "\n",
      "WARNING: Method definition (::Type{Edm4hep.HypothesisStruct})(Any, Any, Any) in module Edm4hep at /Users/graemes/code/Edm4hep.jl/src/HypothesisStruct.jl:2 overwritten on the same line (check for duplicate calls to `include`).\n",
      "  ** incremental compilation may be fatally broken for this module **\n",
      "\n",
      "WARNING: Method definition (::Type{Edm4hep.QuantityStruct})(Int16, Float32, Float32) in module Edm4hep at /Users/graemes/code/Edm4hep.jl/src/QuantityStruct.jl:2 overwritten on the same line (check for duplicate calls to `include`).\n",
      "  ** incremental compilation may be fatally broken for this module **\n",
      "\n",
      "WARNING: Method definition (::Type{Edm4hep.QuantityStruct})(Any, Any, Any) in module Edm4hep at /Users/graemes/code/Edm4hep.jl/src/QuantityStruct.jl:2 overwritten on the same line (check for duplicate calls to `include`).\n",
      "  ** incremental compilation may be fatally broken for this module **\n",
      "\n"
     ]
    }
   ],
   "source": [
    "using Revise\n",
    "using Edm4hep"
   ]
  },
  {
   "cell_type": "code",
   "execution_count": 2,
   "metadata": {},
   "outputs": [
    {
     "name": "stdout",
     "output_type": "stream",
     "text": [
      "CaloHitContribution\n",
      "CaloHitContributionCollection\n",
      "CalorimeterHit\n",
      "CalorimeterHitCollection\n",
      "Cluster\n",
      "ClusterCollection\n",
      "Edm4hep\n",
      "EventHeader\n",
      "EventHeaderCollection\n",
      "HitLevelData\n",
      "Hypothesis\n",
      "MCParticle\n",
      "MCParticleCollection\n",
      "MCRecoCaloAssociation\n",
      "MCRecoCaloAssociationCollection\n",
      "MCRecoCaloParticleAssociation\n",
      "MCRecoCaloParticleAssociationCollection\n",
      "MCRecoClusterParticleAssociation\n",
      "MCRecoClusterParticleAssociationCollection\n",
      "MCRecoParticleAssociation\n",
      "MCRecoParticleAssociationCollection\n",
      "MCRecoTrackParticleAssociation\n",
      "MCRecoTrackParticleAssociationCollection\n",
      "MCRecoTrackerAssociation\n",
      "MCRecoTrackerAssociationCollection\n",
      "MCRecoTrackerHitPlaneAssociation\n",
      "MCRecoTrackerHitPlaneAssociationCollection\n",
      "ObjectID\n",
      "ParticleID\n",
      "ParticleIDCollection\n",
      "Quantity\n",
      "RawCalorimeterHit\n",
      "RawCalorimeterHitCollection\n",
      "RawTimeSeries\n",
      "RawTimeSeriesCollection\n",
      "RecDqdx\n",
      "RecDqdxCollection\n",
      "RecIonizationCluster\n",
      "RecIonizationClusterCollection\n",
      "RecoParticleVertexAssociation\n",
      "RecoParticleVertexAssociationCollection\n",
      "ReconstructedParticle\n",
      "ReconstructedParticleCollection\n",
      "SimCalorimeterHit\n",
      "SimCalorimeterHitCollection\n",
      "SimPrimaryIonizationCluster\n",
      "SimPrimaryIonizationClusterCollection\n",
      "SimTrackerHit\n",
      "SimTrackerHitCollection\n",
      "TimeSeries\n",
      "TimeSeriesCollection\n",
      "Track\n",
      "TrackCollection\n",
      "TrackState\n",
      "TrackerHit\n",
      "TrackerHitCollection\n",
      "TrackerHitPlane\n",
      "TrackerHitPlaneCollection\n",
      "TrackerPulse\n",
      "TrackerPulseCollection\n",
      "Vector2f\n",
      "Vector2i\n",
      "Vector3d\n",
      "Vector3f\n",
      "Vertex\n",
      "VertexCollection\n"
     ]
    }
   ],
   "source": [
    "for name in names(Edm4hep)\n",
    "    println(name)\n",
    "end"
   ]
  },
  {
   "cell_type": "code",
   "execution_count": 3,
   "metadata": {},
   "outputs": [
    {
     "data": {
      "text/plain": [
       "typeof(MCParticle) (singleton type of function MCParticle, subtype of Function)"
      ]
     },
     "metadata": {},
     "output_type": "display_data"
    }
   ],
   "source": [
    "typeof(MCParticle)"
   ]
  },
  {
   "cell_type": "markdown",
   "metadata": {},
   "source": [
    "## Basic initialisation of types\n",
    "\n",
    "Check that basic types can be initialised..."
   ]
  },
  {
   "cell_type": "code",
   "execution_count": 4,
   "metadata": {},
   "outputs": [
    {
     "data": {
      "text/plain": [
       "Edm4hep.Vector3fStruct(1.0f0, 3.0f0, 6.0f0)"
      ]
     },
     "metadata": {},
     "output_type": "display_data"
    }
   ],
   "source": [
    "vf=Vector3f(1.0,3.0,6.0)"
   ]
  },
  {
   "cell_type": "code",
   "execution_count": 5,
   "metadata": {},
   "outputs": [
    {
     "data": {
      "text/plain": [
       "Edm4hep.Vector3fStruct(3.0f0, 6.0f0, 2.0f0)"
      ]
     },
     "metadata": {},
     "output_type": "display_data"
    }
   ],
   "source": [
    "wf=Vector3f(3, 6, 2)"
   ]
  },
  {
   "cell_type": "code",
   "execution_count": 6,
   "metadata": {},
   "outputs": [
    {
     "data": {
      "text/plain": [
       "1.0f0"
      ]
     },
     "metadata": {},
     "output_type": "display_data"
    }
   ],
   "source": [
    "vf.x"
   ]
  },
  {
   "cell_type": "markdown",
   "metadata": {},
   "source": [
    "## Operations on basic types?\n",
    "\n",
    "No, these are not supported, they have to be defined:"
   ]
  },
  {
   "cell_type": "code",
   "execution_count": 7,
   "metadata": {},
   "outputs": [
    {
     "ename": "UndefVarError",
     "evalue": "UndefVarError: `mag` not defined",
     "output_type": "error",
     "traceback": [
      "UndefVarError: `mag` not defined\n",
      "\n",
      "Stacktrace:\n",
      " [1] top-level scope\n",
      "   @ ~/code/Edm4hep-testing/tests.ipynb:1"
     ]
    }
   ],
   "source": [
    "mag(vf)"
   ]
  },
  {
   "cell_type": "markdown",
   "metadata": {},
   "source": [
    "Define a few expected operations...\n",
    "\n",
    "(Aside - what happens in Edm4hep in Python and C++, are these expected operations there?)"
   ]
  },
  {
   "cell_type": "code",
   "execution_count": 8,
   "metadata": {},
   "outputs": [
    {
     "data": {
      "text/plain": [
       "mag (generic function with 1 method)"
      ]
     },
     "metadata": {},
     "output_type": "display_data"
    }
   ],
   "source": [
    "mag(v::Edm4hep.Vector3fStruct) = sqrt(vf.x^2 + vf.y^2 + vf.z^2)"
   ]
  },
  {
   "cell_type": "code",
   "execution_count": 9,
   "metadata": {},
   "outputs": [
    {
     "data": {
      "text/plain": [
       "6.78233f0"
      ]
     },
     "metadata": {},
     "output_type": "display_data"
    }
   ],
   "source": [
    "mag(vf)"
   ]
  },
  {
   "cell_type": "code",
   "execution_count": 10,
   "metadata": {},
   "outputs": [],
   "source": [
    "import Base.+"
   ]
  },
  {
   "cell_type": "code",
   "execution_count": 11,
   "metadata": {},
   "outputs": [
    {
     "data": {
      "text/plain": [
       "+ (generic function with 214 methods)"
      ]
     },
     "metadata": {},
     "output_type": "display_data"
    }
   ],
   "source": [
    "+(v::Edm4hep.Vector3fStruct, w::Edm4hep.Vector3fStruct) = Vector3f(v.x+w.x, v.y+w.y, v.z+w.z)"
   ]
  },
  {
   "cell_type": "code",
   "execution_count": 12,
   "metadata": {},
   "outputs": [
    {
     "data": {
      "text/plain": [
       "Edm4hep.Vector3fStruct(4.0f0, 9.0f0, 8.0f0)"
      ]
     },
     "metadata": {},
     "output_type": "display_data"
    }
   ],
   "source": [
    "vf+wf"
   ]
  },
  {
   "cell_type": "code",
   "execution_count": 32,
   "metadata": {},
   "outputs": [
    {
     "data": {
      "text/plain": [
       "Edm4hep.Vector3fStruct"
      ]
     },
     "metadata": {},
     "output_type": "display_data"
    }
   ],
   "source": [
    "typeof(wf)"
   ]
  },
  {
   "cell_type": "code",
   "execution_count": 40,
   "metadata": {},
   "outputs": [
    {
     "data": {
      "text/html": [
       "# 4 methods for generic function <b>Vector3f</b> from \u001b[36mEdm4hep\u001b[39m:<ul><li> Vector3f() in Edm4hep at <a href=\"https://github.com/Ananya2003Gupta/Edm4hep.jl/tree/fc6501d513ffe822bb52e031d22f63f627aade5e//src/Edm4hep.jl#L107\" target=\"_blank\">/Users/graemes/code/Edm4hep.jl/src/Edm4hep.jl:107</a></li> <li> Vector3f(x::<b>Real</b>) in Edm4hep at <a href=\"https://github.com/Ananya2003Gupta/Edm4hep.jl/tree/fc6501d513ffe822bb52e031d22f63f627aade5e//src/Edm4hep.jl#L107\" target=\"_blank\">/Users/graemes/code/Edm4hep.jl/src/Edm4hep.jl:107</a></li> <li> Vector3f(x::<b>Real</b>, y::<b>Real</b>) in Edm4hep at <a href=\"https://github.com/Ananya2003Gupta/Edm4hep.jl/tree/fc6501d513ffe822bb52e031d22f63f627aade5e//src/Edm4hep.jl#L107\" target=\"_blank\">/Users/graemes/code/Edm4hep.jl/src/Edm4hep.jl:107</a></li> <li> Vector3f(x::<b>Real</b>, y::<b>Real</b>, z::<b>Real</b>) in Edm4hep at <a href=\"https://github.com/Ananya2003Gupta/Edm4hep.jl/tree/fc6501d513ffe822bb52e031d22f63f627aade5e//src/Edm4hep.jl#L107\" target=\"_blank\">/Users/graemes/code/Edm4hep.jl/src/Edm4hep.jl:107</a></li> </ul>"
      ],
      "text/plain": [
       "# 4 methods for generic function \"Vector3f\" from \u001b[36mEdm4hep\u001b[39m:\n",
       " [1] Vector3f()\n",
       "\u001b[90m     @\u001b[39m \u001b[90m~/code/Edm4hep.jl/src/\u001b[39m\u001b[90m\u001b[4mEdm4hep.jl:107\u001b[24m\u001b[39m\n",
       " [2] Vector3f(\u001b[90mx\u001b[39m::\u001b[1mReal\u001b[22m)\n",
       "\u001b[90m     @\u001b[39m \u001b[90m~/code/Edm4hep.jl/src/\u001b[39m\u001b[90m\u001b[4mEdm4hep.jl:107\u001b[24m\u001b[39m\n",
       " [3] Vector3f(\u001b[90mx\u001b[39m::\u001b[1mReal\u001b[22m, \u001b[90my\u001b[39m::\u001b[1mReal\u001b[22m)\n",
       "\u001b[90m     @\u001b[39m \u001b[90m~/code/Edm4hep.jl/src/\u001b[39m\u001b[90m\u001b[4mEdm4hep.jl:107\u001b[24m\u001b[39m\n",
       " [4] Vector3f(\u001b[90mx\u001b[39m::\u001b[1mReal\u001b[22m, \u001b[90my\u001b[39m::\u001b[1mReal\u001b[22m, \u001b[90mz\u001b[39m::\u001b[1mReal\u001b[22m)\n",
       "\u001b[90m     @\u001b[39m \u001b[90m~/code/Edm4hep.jl/src/\u001b[39m\u001b[90m\u001b[4mEdm4hep.jl:107\u001b[24m\u001b[39m"
      ]
     },
     "metadata": {},
     "output_type": "display_data"
    }
   ],
   "source": [
    "methods(Edm4hep.Vector3f)"
   ]
  },
  {
   "cell_type": "code",
   "execution_count": 41,
   "metadata": {},
   "outputs": [],
   "source": [
    "struct test\n",
    "    x::Number\n",
    "    y::Number\n",
    "end"
   ]
  },
  {
   "cell_type": "code",
   "execution_count": 42,
   "metadata": {},
   "outputs": [
    {
     "data": {
      "text/html": [
       "# 2 methods for type constructor:<ul><li> test(x::<b>Number</b>, y::<b>Number</b>) in Main at <a href=\"https://github.com/graeme-a-stewart/Edm4hep-testing/tree/94c60f9718b9c0b7a062885085ec65fe7214c920//tests.ipynb#L2\" target=\"_blank\">/Users/graemes/code/Edm4hep-testing/tests.ipynb:2</a></li> <li> test(x, y) in Main at <a href=\"https://github.com/graeme-a-stewart/Edm4hep-testing/tree/94c60f9718b9c0b7a062885085ec65fe7214c920//tests.ipynb#L2\" target=\"_blank\">/Users/graemes/code/Edm4hep-testing/tests.ipynb:2</a></li> </ul>"
      ],
      "text/plain": [
       "# 2 methods for type constructor:\n",
       " [1] test(\u001b[90mx\u001b[39m::\u001b[1mNumber\u001b[22m, \u001b[90my\u001b[39m::\u001b[1mNumber\u001b[22m)\n",
       "\u001b[90m     @\u001b[39m \u001b[90m~/code/Edm4hep-testing/\u001b[39m\u001b[90m\u001b[4mtests.ipynb:2\u001b[24m\u001b[39m\n",
       " [2] test(\u001b[90mx\u001b[39m, \u001b[90my\u001b[39m)\n",
       "\u001b[90m     @\u001b[39m \u001b[90m~/code/Edm4hep-testing/\u001b[39m\u001b[90m\u001b[4mtests.ipynb:2\u001b[24m\u001b[39m"
      ]
     },
     "metadata": {},
     "output_type": "display_data"
    }
   ],
   "source": [
    "methods(test)"
   ]
  },
  {
   "cell_type": "code",
   "execution_count": 43,
   "metadata": {},
   "outputs": [],
   "source": [
    "import Edm4hep: Vector3fStruct"
   ]
  },
  {
   "cell_type": "code",
   "execution_count": 44,
   "metadata": {},
   "outputs": [
    {
     "data": {
      "text/html": [
       "# 3 methods for type constructor:<ul><li> Vector3fStruct() in Main at <a href=\"https://github.com/graeme-a-stewart/Edm4hep-testing/tree/94c60f9718b9c0b7a062885085ec65fe7214c920//tests.ipynb#L1\" target=\"_blank\">/Users/graemes/code/Edm4hep-testing/tests.ipynb:1</a></li> <li> Vector3fStruct(x::<b>Float32</b>, y::<b>Float32</b>, z::<b>Float32</b>) in Edm4hep at <a href=\"https://github.com/Ananya2003Gupta/Edm4hep.jl/tree/fc6501d513ffe822bb52e031d22f63f627aade5e//src/Vector3fStruct.jl#L2\" target=\"_blank\">/Users/graemes/code/Edm4hep.jl/src/Vector3fStruct.jl:2</a></li> <li> Vector3fStruct(x, y, z) in Edm4hep at <a href=\"https://github.com/Ananya2003Gupta/Edm4hep.jl/tree/fc6501d513ffe822bb52e031d22f63f627aade5e//src/Vector3fStruct.jl#L2\" target=\"_blank\">/Users/graemes/code/Edm4hep.jl/src/Vector3fStruct.jl:2</a></li> </ul>"
      ],
      "text/plain": [
       "# 3 methods for type constructor:\n",
       " [1] Vector3fStruct()\n",
       "\u001b[90m     @\u001b[39m \u001b[32mMain\u001b[39m \u001b[90m~/code/Edm4hep-testing/\u001b[39m\u001b[90m\u001b[4mtests.ipynb:1\u001b[24m\u001b[39m\n",
       " [2] Vector3fStruct(\u001b[90mx\u001b[39m::\u001b[1mFloat32\u001b[22m, \u001b[90my\u001b[39m::\u001b[1mFloat32\u001b[22m, \u001b[90mz\u001b[39m::\u001b[1mFloat32\u001b[22m)\n",
       "\u001b[90m     @\u001b[39m \u001b[90m~/code/Edm4hep.jl/src/\u001b[39m\u001b[90m\u001b[4mVector3fStruct.jl:2\u001b[24m\u001b[39m\n",
       " [3] Vector3fStruct(\u001b[90mx\u001b[39m, \u001b[90my\u001b[39m, \u001b[90mz\u001b[39m)\n",
       "\u001b[90m     @\u001b[39m \u001b[90m~/code/Edm4hep.jl/src/\u001b[39m\u001b[90m\u001b[4mVector3fStruct.jl:2\u001b[24m\u001b[39m"
      ]
     },
     "metadata": {},
     "output_type": "display_data"
    }
   ],
   "source": [
    "methods(Vector3fStruct)"
   ]
  },
  {
   "cell_type": "markdown",
   "metadata": {},
   "source": [
    "### Natural constructors?\n",
    "\n",
    "I continue to puzzle over why we wrote constructors with a different underlying datatype...?\n",
    "\n",
    "Normal style constructors do just work!"
   ]
  },
  {
   "cell_type": "code",
   "execution_count": 14,
   "metadata": {},
   "outputs": [],
   "source": [
    "Edm4hep.Vector3fStruct() = Edm4hep.Vector3fStruct(0.0f0, 0.0f0, 0.0f0)"
   ]
  },
  {
   "cell_type": "code",
   "execution_count": 15,
   "metadata": {},
   "outputs": [
    {
     "data": {
      "text/plain": [
       "Edm4hep.Vector3fStruct(0.0f0, 0.0f0, 0.0f0)"
      ]
     },
     "metadata": {},
     "output_type": "display_data"
    }
   ],
   "source": [
    "origin = Edm4hep.Vector3fStruct()"
   ]
  },
  {
   "cell_type": "code",
   "execution_count": 16,
   "metadata": {},
   "outputs": [
    {
     "data": {
      "text/plain": [
       "Edm4hep.Vector3fStruct(3.0f0, 2.0f0, 1.0f0)"
      ]
     },
     "metadata": {},
     "output_type": "display_data"
    }
   ],
   "source": [
    "v3f_fromint = Edm4hep.Vector3fStruct(3,2,1)"
   ]
  },
  {
   "cell_type": "code",
   "execution_count": 17,
   "metadata": {},
   "outputs": [
    {
     "data": {
      "text/plain": [
       "Edm4hep.Vector3fStruct(3.1f0, 2.2f0, 1.3f0)"
      ]
     },
     "metadata": {},
     "output_type": "display_data"
    }
   ],
   "source": [
    "v3f_fromf64 = Edm4hep.Vector3fStruct(3.1,2.2,1.3)"
   ]
  },
  {
   "cell_type": "code",
   "execution_count": 34,
   "metadata": {},
   "outputs": [
    {
     "data": {
      "text/plain": [
       "DataType"
      ]
     },
     "metadata": {},
     "output_type": "display_data"
    }
   ],
   "source": [
    "typeof(Edm4hep.Vector3fStruct)"
   ]
  },
  {
   "cell_type": "code",
   "execution_count": 36,
   "metadata": {},
   "outputs": [
    {
     "ename": "ErrorException",
     "evalue": "syntax: extra token \"from\" after end of expression",
     "output_type": "error",
     "traceback": [
      "syntax: extra token \"from\" after end of expression\n",
      "\n",
      "Stacktrace:\n",
      " [1] top-level scope\n",
      "   @ ~/code/Edm4hep-testing/tests.ipynb:1"
     ]
    }
   ],
   "source": [
    "import Vector3fStruct from Edm4hep"
   ]
  },
  {
   "cell_type": "markdown",
   "metadata": {},
   "source": [
    "## More Sophisticated Datatypes...\n",
    "\n",
    "Ah, it's not very nice that we don't use named parameters here - they are all positional. We should try and fix that...\n",
    "\n",
    "Oh, the method signature is horrible here!"
   ]
  },
  {
   "cell_type": "code",
   "execution_count": 19,
   "metadata": {},
   "outputs": [
    {
     "ename": "MethodError",
     "evalue": "MethodError: no method matching ParticleID(; type::Int64, PDG::Int64)\n\nClosest candidates are:\n  ParticleID() got unsupported keyword arguments \"type\", \"PDG\"\n   @ Edm4hep ~/code/Edm4hep.jl/src/Edm4hep.jl:368\n  ParticleID(!Matched::Integer) got unsupported keyword arguments \"type\", \"PDG\"\n   @ Edm4hep ~/code/Edm4hep.jl/src/Edm4hep.jl:368\n  ParticleID(!Matched::Integer, !Matched::Integer) got unsupported keyword arguments \"type\", \"PDG\"\n   @ Edm4hep ~/code/Edm4hep.jl/src/Edm4hep.jl:368\n  ...\n",
     "output_type": "error",
     "traceback": [
      "MethodError: no method matching ParticleID(; type::Int64, PDG::Int64)\n",
      "\n",
      "Closest candidates are:\n",
      "  ParticleID() got unsupported keyword arguments \"type\", \"PDG\"\n",
      "   @ Edm4hep ~/code/Edm4hep.jl/src/Edm4hep.jl:368\n",
      "  ParticleID(!Matched::Integer) got unsupported keyword arguments \"type\", \"PDG\"\n",
      "   @ Edm4hep ~/code/Edm4hep.jl/src/Edm4hep.jl:368\n",
      "  ParticleID(!Matched::Integer, !Matched::Integer) got unsupported keyword arguments \"type\", \"PDG\"\n",
      "   @ Edm4hep ~/code/Edm4hep.jl/src/Edm4hep.jl:368\n",
      "  ...\n",
      "\n",
      "\n",
      "Stacktrace:\n",
      " [1] top-level scope\n",
      "   @ ~/code/Edm4hep-testing/tests.ipynb:1"
     ]
    }
   ],
   "source": [
    "electron = ParticleID(type=3, PDG=3)"
   ]
  },
  {
   "cell_type": "code",
   "execution_count": 20,
   "metadata": {},
   "outputs": [
    {
     "data": {
      "text/plain": [
       "Edm4hep.ParticleIDStruct(0, 0, 0, 0.0f0, Float32[])"
      ]
     },
     "metadata": {},
     "output_type": "display_data"
    }
   ],
   "source": [
    "electron = ParticleID()"
   ]
  },
  {
   "cell_type": "code",
   "execution_count": 21,
   "metadata": {},
   "outputs": [
    {
     "data": {
      "text/plain": [
       "3"
      ]
     },
     "metadata": {},
     "output_type": "display_data"
    }
   ],
   "source": [
    "electron.PDG = 3"
   ]
  },
  {
   "cell_type": "code",
   "execution_count": 38,
   "metadata": {},
   "outputs": [
    {
     "ename": "MethodError",
     "evalue": "MethodError: no method matching ParticleID(::Int64, ::Int64, ::Int64, ::Float64, ::Vector{Float64})\n\nClosest candidates are:\n  ParticleID(::Integer, ::Integer, ::Integer, ::Real)\n   @ Edm4hep ~/code/Edm4hep.jl/src/Edm4hep.jl:368\n  ParticleID(::Integer, ::Integer, ::Integer, ::Real, !Matched::Vector{Float32})\n   @ Edm4hep ~/code/Edm4hep.jl/src/Edm4hep.jl:368\n  ParticleID(::Integer, ::Integer, ::Integer)\n   @ Edm4hep ~/code/Edm4hep.jl/src/Edm4hep.jl:368\n  ...\n",
     "output_type": "error",
     "traceback": [
      "MethodError: no method matching ParticleID(::Int64, ::Int64, ::Int64, ::Float64, ::Vector{Float64})\n",
      "\n",
      "Closest candidates are:\n",
      "  ParticleID(::Integer, ::Integer, ::Integer, ::Real)\n",
      "   @ Edm4hep ~/code/Edm4hep.jl/src/Edm4hep.jl:368\n",
      "  ParticleID(::Integer, ::Integer, ::Integer, ::Real, !Matched::Vector{Float32})\n",
      "   @ Edm4hep ~/code/Edm4hep.jl/src/Edm4hep.jl:368\n",
      "  ParticleID(::Integer, ::Integer, ::Integer)\n",
      "   @ Edm4hep ~/code/Edm4hep.jl/src/Edm4hep.jl:368\n",
      "  ...\n",
      "\n",
      "\n",
      "Stacktrace:\n",
      " [1] top-level scope\n",
      "   @ ~/code/Edm4hep-testing/tests.ipynb:1"
     ]
    }
   ],
   "source": [
    "electron2 = ParticleID(3, 3, 0, 0.2, [1.2, 3.4])"
   ]
  },
  {
   "cell_type": "code",
   "execution_count": 23,
   "metadata": {},
   "outputs": [
    {
     "data": {
      "text/plain": [
       "Edm4hep.ParticleIDStruct(3, 3, 0, 0.0f0, Float32[])"
      ]
     },
     "metadata": {},
     "output_type": "display_data"
    }
   ],
   "source": [
    "electron3 = ParticleID(Int32(3), Int32(3))"
   ]
  },
  {
   "cell_type": "code",
   "execution_count": 24,
   "metadata": {},
   "outputs": [
    {
     "data": {
      "text/plain": [
       "Edm4hep.ParticleIDStruct(3, 3, 0, 0.2f0, Float32[1.2, 3.4])"
      ]
     },
     "metadata": {},
     "output_type": "display_data"
    }
   ],
   "source": [
    "electron2 = ParticleID(Int32(3), Int32(3), Int32(0), 0.2f0, [1.2f0, 3.4f0])"
   ]
  },
  {
   "cell_type": "markdown",
   "metadata": {},
   "source": [
    "Using the Julia constructors works as expected!\n",
    "\n",
    "Including changing to the correct internal datatypes by promotion/demotion"
   ]
  },
  {
   "cell_type": "code",
   "execution_count": 25,
   "metadata": {},
   "outputs": [
    {
     "data": {
      "text/plain": [
       "Edm4hep.ParticleIDStruct(3, 3, 0, 0.2f0, Float32[1.2, 3.4])"
      ]
     },
     "metadata": {},
     "output_type": "display_data"
    }
   ],
   "source": [
    "delectron = Edm4hep.ParticleIDStruct(Int32(3), Int32(3), Int32(0), 0.2f0, [1.2f0, 3.4f0])"
   ]
  },
  {
   "cell_type": "code",
   "execution_count": 26,
   "metadata": {},
   "outputs": [
    {
     "data": {
      "text/plain": [
       "Edm4hep.ParticleIDStruct(3, -3, 12, 0.6f0, Float32[1.67, 3.22])"
      ]
     },
     "metadata": {},
     "output_type": "display_data"
    }
   ],
   "source": [
    "pelectron = Edm4hep.ParticleIDStruct(3, -3, 12, 0.6, [1.67, 3.22])"
   ]
  },
  {
   "cell_type": "code",
   "execution_count": 27,
   "metadata": {},
   "outputs": [
    {
     "data": {
      "text/html": [
       "# 6 methods for generic function <b>ParticleID</b> from \u001b[36mEdm4hep\u001b[39m:<ul><li> ParticleID() in Edm4hep at <a href=\"https://github.com/Ananya2003Gupta/Edm4hep.jl/tree/fc6501d513ffe822bb52e031d22f63f627aade5e//src/Edm4hep.jl#L368\" target=\"_blank\">/Users/graemes/code/Edm4hep.jl/src/Edm4hep.jl:368</a></li> <li> ParticleID(type::<b>Integer</b>) in Edm4hep at <a href=\"https://github.com/Ananya2003Gupta/Edm4hep.jl/tree/fc6501d513ffe822bb52e031d22f63f627aade5e//src/Edm4hep.jl#L368\" target=\"_blank\">/Users/graemes/code/Edm4hep.jl/src/Edm4hep.jl:368</a></li> <li> ParticleID(type::<b>Integer</b>, PDG::<b>Integer</b>) in Edm4hep at <a href=\"https://github.com/Ananya2003Gupta/Edm4hep.jl/tree/fc6501d513ffe822bb52e031d22f63f627aade5e//src/Edm4hep.jl#L368\" target=\"_blank\">/Users/graemes/code/Edm4hep.jl/src/Edm4hep.jl:368</a></li> <li> ParticleID(type::<b>Integer</b>, PDG::<b>Integer</b>, algorithmType::<b>Integer</b>) in Edm4hep at <a href=\"https://github.com/Ananya2003Gupta/Edm4hep.jl/tree/fc6501d513ffe822bb52e031d22f63f627aade5e//src/Edm4hep.jl#L368\" target=\"_blank\">/Users/graemes/code/Edm4hep.jl/src/Edm4hep.jl:368</a></li> <li> ParticleID(type::<b>Integer</b>, PDG::<b>Integer</b>, algorithmType::<b>Integer</b>, likelihood::<b>Real</b>) in Edm4hep at <a href=\"https://github.com/Ananya2003Gupta/Edm4hep.jl/tree/fc6501d513ffe822bb52e031d22f63f627aade5e//src/Edm4hep.jl#L368\" target=\"_blank\">/Users/graemes/code/Edm4hep.jl/src/Edm4hep.jl:368</a></li> <li> ParticleID(type::<b>Integer</b>, PDG::<b>Integer</b>, algorithmType::<b>Integer</b>, likelihood::<b>Real</b>, parameters::<b>Vector{Float32}</b>) in Edm4hep at <a href=\"https://github.com/Ananya2003Gupta/Edm4hep.jl/tree/fc6501d513ffe822bb52e031d22f63f627aade5e//src/Edm4hep.jl#L368\" target=\"_blank\">/Users/graemes/code/Edm4hep.jl/src/Edm4hep.jl:368</a></li> </ul>"
      ],
      "text/plain": [
       "# 6 methods for generic function \"ParticleID\" from \u001b[36mEdm4hep\u001b[39m:\n",
       " [1] ParticleID()\n",
       "\u001b[90m     @\u001b[39m \u001b[90m~/code/Edm4hep.jl/src/\u001b[39m\u001b[90m\u001b[4mEdm4hep.jl:368\u001b[24m\u001b[39m\n",
       " [2] ParticleID(\u001b[90mtype\u001b[39m::\u001b[1mInteger\u001b[22m)\n",
       "\u001b[90m     @\u001b[39m \u001b[90m~/code/Edm4hep.jl/src/\u001b[39m\u001b[90m\u001b[4mEdm4hep.jl:368\u001b[24m\u001b[39m\n",
       " [3] ParticleID(\u001b[90mtype\u001b[39m::\u001b[1mInteger\u001b[22m, \u001b[90mPDG\u001b[39m::\u001b[1mInteger\u001b[22m)\n",
       "\u001b[90m     @\u001b[39m \u001b[90m~/code/Edm4hep.jl/src/\u001b[39m\u001b[90m\u001b[4mEdm4hep.jl:368\u001b[24m\u001b[39m\n",
       " [4] ParticleID(\u001b[90mtype\u001b[39m::\u001b[1mInteger\u001b[22m, \u001b[90mPDG\u001b[39m::\u001b[1mInteger\u001b[22m, \u001b[90malgorithmType\u001b[39m::\u001b[1mInteger\u001b[22m)\n",
       "\u001b[90m     @\u001b[39m \u001b[90m~/code/Edm4hep.jl/src/\u001b[39m\u001b[90m\u001b[4mEdm4hep.jl:368\u001b[24m\u001b[39m\n",
       " [5] ParticleID(\u001b[90mtype\u001b[39m::\u001b[1mInteger\u001b[22m, \u001b[90mPDG\u001b[39m::\u001b[1mInteger\u001b[22m, \u001b[90malgorithmType\u001b[39m::\u001b[1mInteger\u001b[22m, \u001b[90mlikelihood\u001b[39m::\u001b[1mReal\u001b[22m)\n",
       "\u001b[90m     @\u001b[39m \u001b[90m~/code/Edm4hep.jl/src/\u001b[39m\u001b[90m\u001b[4mEdm4hep.jl:368\u001b[24m\u001b[39m\n",
       " [6] ParticleID(\u001b[90mtype\u001b[39m::\u001b[1mInteger\u001b[22m, \u001b[90mPDG\u001b[39m::\u001b[1mInteger\u001b[22m, \u001b[90malgorithmType\u001b[39m::\u001b[1mInteger\u001b[22m, \u001b[90mlikelihood\u001b[39m::\u001b[1mReal\u001b[22m, \u001b[90mparameters\u001b[39m::\u001b[1mVector\u001b[22m\u001b[0m{Float32})\n",
       "\u001b[90m     @\u001b[39m \u001b[90m~/code/Edm4hep.jl/src/\u001b[39m\u001b[90m\u001b[4mEdm4hep.jl:368\u001b[24m\u001b[39m"
      ]
     },
     "metadata": {},
     "output_type": "display_data"
    }
   ],
   "source": [
    "methods(ParticleID)"
   ]
  },
  {
   "cell_type": "code",
   "execution_count": 28,
   "metadata": {},
   "outputs": [
    {
     "data": {
      "text/html": [
       "# 2 methods for type constructor:<ul><li> Edm4hep.ParticleIDStruct(type::<b>Int32</b>, PDG::<b>Int32</b>, algorithmType::<b>Int32</b>, likelihood::<b>Float32</b>, parameters::<b>Vector{Float32}</b>) in Edm4hep at <a href=\"https://github.com/Ananya2003Gupta/Edm4hep.jl/tree/fc6501d513ffe822bb52e031d22f63f627aade5e//src/ParticleIDStruct.jl#L3\" target=\"_blank\">/Users/graemes/code/Edm4hep.jl/src/ParticleIDStruct.jl:3</a></li> <li> Edm4hep.ParticleIDStruct(type, PDG, algorithmType, likelihood, parameters) in Edm4hep at <a href=\"https://github.com/Ananya2003Gupta/Edm4hep.jl/tree/fc6501d513ffe822bb52e031d22f63f627aade5e//src/ParticleIDStruct.jl#L3\" target=\"_blank\">/Users/graemes/code/Edm4hep.jl/src/ParticleIDStruct.jl:3</a></li> </ul>"
      ],
      "text/plain": [
       "# 2 methods for type constructor:\n",
       " [1] Edm4hep.ParticleIDStruct(\u001b[90mtype\u001b[39m::\u001b[1mInt32\u001b[22m, \u001b[90mPDG\u001b[39m::\u001b[1mInt32\u001b[22m, \u001b[90malgorithmType\u001b[39m::\u001b[1mInt32\u001b[22m, \u001b[90mlikelihood\u001b[39m::\u001b[1mFloat32\u001b[22m, \u001b[90mparameters\u001b[39m::\u001b[1mVector\u001b[22m\u001b[0m{Float32})\n",
       "\u001b[90m     @\u001b[39m \u001b[90m~/code/Edm4hep.jl/src/\u001b[39m\u001b[90m\u001b[4mParticleIDStruct.jl:3\u001b[24m\u001b[39m\n",
       " [2] Edm4hep.ParticleIDStruct(\u001b[90mtype\u001b[39m, \u001b[90mPDG\u001b[39m, \u001b[90malgorithmType\u001b[39m, \u001b[90mlikelihood\u001b[39m, \u001b[90mparameters\u001b[39m)\n",
       "\u001b[90m     @\u001b[39m \u001b[90m~/code/Edm4hep.jl/src/\u001b[39m\u001b[90m\u001b[4mParticleIDStruct.jl:3\u001b[24m\u001b[39m"
      ]
     },
     "metadata": {},
     "output_type": "display_data"
    }
   ],
   "source": [
    "methods(Edm4hep.ParticleIDStruct)"
   ]
  },
  {
   "cell_type": "markdown",
   "metadata": {},
   "source": [
    "### More tests...\n",
    "\n",
    "\n",
    "Use `TrackerHitPlaneStruct`"
   ]
  },
  {
   "cell_type": "code",
   "execution_count": 29,
   "metadata": {},
   "outputs": [
    {
     "data": {
      "text/plain": [
       "Edm4hep.TrackerHitPlaneStruct(0x0000000000000000, 0, 0, 0.0f0, 0.0f0, 0.0f0, Edm4hep.Vector2fStruct(0.0f0, 0.0f0), Edm4hep.Vector2fStruct(0.0f0, 0.0f0), 0.0f0, 0.0f0, Edm4hep.Vector3dStruct(0.0, 0.0, 0.0), Float32[1.2461239f-35, 1.0f-45, 3.2683107f-24, 1.0f-45, 0.0, 0.0], Edm4hep.ObjectIDStruct[])"
      ]
     },
     "metadata": {},
     "output_type": "display_data"
    }
   ],
   "source": [
    "thp = TrackerHitPlane()"
   ]
  },
  {
   "cell_type": "code",
   "execution_count": 30,
   "metadata": {},
   "outputs": [
    {
     "ename": "MethodError",
     "evalue": "MethodError: no method matching TrackerHitPlane(::Int64, ::Int64, ::Int64, ::Float64, ::Float64, ::Float64, ::Vector{Float64}, ::Vector{Float64}, ::Float64, ::Float64, ::Vector{Float64}, ::Vector{Float64}, ::Vector{Edm4hep.ObjectIDStruct})\n\nClosest candidates are:\n  TrackerHitPlane(::Integer, ::Integer, ::Integer, ::Real, ::Real, ::Real, !Matched::Edm4hep.Vector2fStruct, !Matched::Edm4hep.Vector2fStruct, ::Real, ::Real, !Matched::Edm4hep.Vector3dStruct, !Matched::StaticArraysCore.MVector{6, Float32}, ::Vector{Edm4hep.ObjectIDStruct})\n   @ Edm4hep ~/code/Edm4hep.jl/src/Edm4hep.jl:446\n  TrackerHitPlane(::Integer, ::Integer, ::Integer, ::Real, ::Real, ::Real, !Matched::Edm4hep.Vector2fStruct, !Matched::Edm4hep.Vector2fStruct, ::Real, ::Real)\n   @ Edm4hep ~/code/Edm4hep.jl/src/Edm4hep.jl:446\n  TrackerHitPlane(::Integer, ::Integer, ::Integer, ::Real, ::Real, ::Real, !Matched::Edm4hep.Vector2fStruct, !Matched::Edm4hep.Vector2fStruct, ::Real, ::Real, !Matched::Edm4hep.Vector3dStruct)\n   @ Edm4hep ~/code/Edm4hep.jl/src/Edm4hep.jl:446\n  ...\n",
     "output_type": "error",
     "traceback": [
      "MethodError: no method matching TrackerHitPlane(::Int64, ::Int64, ::Int64, ::Float64, ::Float64, ::Float64, ::Vector{Float64}, ::Vector{Float64}, ::Float64, ::Float64, ::Vector{Float64}, ::Vector{Float64}, ::Vector{Edm4hep.ObjectIDStruct})\n",
      "\n",
      "Closest candidates are:\n",
      "  TrackerHitPlane(::Integer, ::Integer, ::Integer, ::Real, ::Real, ::Real, !Matched::Edm4hep.Vector2fStruct, !Matched::Edm4hep.Vector2fStruct, ::Real, ::Real, !Matched::Edm4hep.Vector3dStruct, !Matched::StaticArraysCore.MVector{6, Float32}, ::Vector{Edm4hep.ObjectIDStruct})\n",
      "   @ Edm4hep ~/code/Edm4hep.jl/src/Edm4hep.jl:446\n",
      "  TrackerHitPlane(::Integer, ::Integer, ::Integer, ::Real, ::Real, ::Real, !Matched::Edm4hep.Vector2fStruct, !Matched::Edm4hep.Vector2fStruct, ::Real, ::Real)\n",
      "   @ Edm4hep ~/code/Edm4hep.jl/src/Edm4hep.jl:446\n",
      "  TrackerHitPlane(::Integer, ::Integer, ::Integer, ::Real, ::Real, ::Real, !Matched::Edm4hep.Vector2fStruct, !Matched::Edm4hep.Vector2fStruct, ::Real, ::Real, !Matched::Edm4hep.Vector3dStruct)\n",
      "   @ Edm4hep ~/code/Edm4hep.jl/src/Edm4hep.jl:446\n",
      "  ...\n",
      "\n",
      "\n",
      "Stacktrace:\n",
      " [1] top-level scope\n",
      "   @ ~/code/Edm4hep-testing/tests.ipynb:1"
     ]
    }
   ],
   "source": [
    "thp1 = TrackerHitPlane(0, 0, 0, 0.0, 0.0, 0.0, [2.3, 4.5], [2.6, 1.2], 1.0, 8.9, [2.3, 4.5, 2.6], [1., 2., 3., 4., 5., 6.], Edm4hep.ObjectIDStruct[])"
   ]
  },
  {
   "cell_type": "code",
   "execution_count": null,
   "metadata": {},
   "outputs": [],
   "source": []
  }
 ],
 "metadata": {
  "kernelspec": {
   "display_name": "Julia 1.9.3",
   "language": "julia",
   "name": "julia-1.9"
  },
  "language_info": {
   "file_extension": ".jl",
   "mimetype": "application/julia",
   "name": "julia",
   "version": "1.9.3"
  },
  "orig_nbformat": 4
 },
 "nbformat": 4,
 "nbformat_minor": 2
}
